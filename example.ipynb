{
 "cells": [
  {
   "cell_type": "code",
   "execution_count": 1,
   "metadata": {},
   "outputs": [
    {
     "name": "stdout",
     "output_type": "stream",
     "text": [
      "Hello, world!\n",
      "What is your name?\n"
     ]
    }
   ],
   "source": [
    "# To add a new cell, type '# %%'\n",
    "# To add a new markdown cell, type '# %% [markdown]'\n",
    "# %%\n",
    "# This program says hello and asks for my name.\n",
    "import time\n",
    "\n",
    "print('Hello, world!')\n",
    "print('What is your name?')    # ask for their name\n",
    "myName = input('Enter Name: ')\n",
    "print('It is good to meet you, ' + myName)\n",
    "print('The length of your name is:')\n",
    "print(len(myName))\n",
    "print('What is your age?')    # ask for their age\n",
    "myAge = input('Enter Age: ')\n",
    "print('You will be ' + str(int(myAge) + 1) + ' in a year.')\n",
    "time.sleep(3)\n",
    "\n",
    "\n",
    "# %%\n"
   ]
  },
  {
   "cell_type": "code",
   "execution_count": null,
   "metadata": {},
   "outputs": [],
   "source": [
    "counter = 0\n",
    "while counter <10:\n",
    "    if counter <4:\n",
    "        print('I am about to print a low number.')\n",
    "    elif counter >3 and counter <7:\n",
    "        print('I am about to print a medium number.')\n",
    "    else:\n",
    "        print('I am about to print a high number.')\n",
    "    print('you are now printing the number:' ,counter)\n",
    "    counter=counter+1"
   ]
  },
  {
   "cell_type": "code",
   "execution_count": 2,
   "metadata": {},
   "outputs": [],
   "source": [
    "def repete_name(name ='James', rep=5):\n",
    "    count=0\n",
    "    while count < 10:\n",
    "        print(\"James\")\n",
    "        count = count+1"
   ]
  },
  {
   "cell_type": "code",
   "execution_count": 3,
   "metadata": {},
   "outputs": [
    {
     "name": "stdout",
     "output_type": "stream",
     "text": [
      "James\n",
      "James\n",
      "James\n",
      "James\n",
      "James\n",
      "James\n",
      "James\n",
      "James\n",
      "James\n",
      "James\n"
     ]
    }
   ],
   "source": [
    "repete_name()"
   ]
  },
  {
   "cell_type": "code",
   "execution_count": null,
   "metadata": {},
   "outputs": [],
   "source": [
    "def concat_dis(var1, var2):\n",
    "    value =str(var1)+str(var2)\n",
    "    if len(value)<3:\n",
    "        print(\"it is a short concatenation\")\n",
    "    else:\n",
    "        print (\"it is ok\")\n",
    "    return value"
   ]
  }
 ],
 "metadata": {
  "kernelspec": {
   "display_name": ".venv",
   "language": "python",
   "name": "python3"
  },
  "language_info": {
   "codemirror_mode": {
    "name": "ipython",
    "version": 3
   },
   "file_extension": ".py",
   "mimetype": "text/x-python",
   "name": "python",
   "nbconvert_exporter": "python",
   "pygments_lexer": "ipython3",
   "version": "3.11.1"
  }
 },
 "nbformat": 4,
 "nbformat_minor": 2
}
